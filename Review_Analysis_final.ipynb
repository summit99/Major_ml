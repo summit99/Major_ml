{
  "nbformat": 4,
  "nbformat_minor": 0,
  "metadata": {
    "kernelspec": {
      "display_name": "Python 3",
      "language": "python",
      "name": "python3"
    },
    "language_info": {
      "codemirror_mode": {
        "name": "ipython",
        "version": 3
      },
      "file_extension": ".py",
      "mimetype": "text/x-python",
      "name": "python",
      "nbconvert_exporter": "python",
      "pygments_lexer": "ipython3",
      "version": "3.7.9"
    },
    "colab": {
      "name": "Review Analysis_final.ipynb",
      "provenance": [],
      "include_colab_link": true
    }
  },
  "cells": [
    {
      "cell_type": "markdown",
      "metadata": {
        "id": "view-in-github",
        "colab_type": "text"
      },
      "source": [
        "<a href=\"https://colab.research.google.com/github/summit99/Major_ml/blob/main/Review_Analysis_final.ipynb\" target=\"_parent\"><img src=\"https://colab.research.google.com/assets/colab-badge.svg\" alt=\"Open In Colab\"/></a>"
      ]
    },
    {
      "cell_type": "markdown",
      "metadata": {
        "id": "o41vBdl2Stsf"
      },
      "source": [
        "# Analysis of Cell Phone Reviews"
      ]
    },
    {
      "cell_type": "markdown",
      "metadata": {
        "id": "BUJIklS_Stsk"
      },
      "source": [
        "***************************************************"
      ]
    },
    {
      "cell_type": "markdown",
      "metadata": {
        "id": "FwYURWhFStsl"
      },
      "source": [
        "## Importing required libraries"
      ]
    },
    {
      "cell_type": "code",
      "metadata": {
        "id": "EyuMD6rBS3Mc"
      },
      "source": [
        "from google.colab import drive"
      ],
      "execution_count": 1,
      "outputs": []
    },
    {
      "cell_type": "code",
      "metadata": {
        "colab": {
          "base_uri": "https://localhost:8080/"
        },
        "id": "KNw5tgCfTAY0",
        "outputId": "2e2bf997-034a-4325-96e6-f2ff57b8a1ce"
      },
      "source": [
        "drive.mount('/content/drive')"
      ],
      "execution_count": 2,
      "outputs": [
        {
          "output_type": "stream",
          "text": [
            "Mounted at /content/drive\n"
          ],
          "name": "stdout"
        }
      ]
    },
    {
      "cell_type": "code",
      "metadata": {
        "id": "cNV_1NPZStsl"
      },
      "source": [
        "import numpy as np\n",
        "import pandas as pd\n",
        "import matplotlib.pyplot as plt"
      ],
      "execution_count": 3,
      "outputs": []
    },
    {
      "cell_type": "markdown",
      "metadata": {
        "id": "PQdhX0vnStsm"
      },
      "source": [
        "## Importing and cleaning the dataset"
      ]
    },
    {
      "cell_type": "code",
      "metadata": {
        "id": "wAWt_2EQStsm"
      },
      "source": [
        "df = pd.read_csv('/content/drive/MyDrive/review_data/data/20191226-reviews.csv')"
      ],
      "execution_count": 5,
      "outputs": []
    },
    {
      "cell_type": "code",
      "metadata": {
        "colab": {
          "base_uri": "https://localhost:8080/",
          "height": 194
        },
        "id": "k026vRueStsm",
        "outputId": "1c9f1f9d-bbb2-4607-a175-2d9813df7bab"
      },
      "source": [
        "df.head()"
      ],
      "execution_count": 6,
      "outputs": [
        {
          "output_type": "execute_result",
          "data": {
            "text/html": [
              "<div>\n",
              "<style scoped>\n",
              "    .dataframe tbody tr th:only-of-type {\n",
              "        vertical-align: middle;\n",
              "    }\n",
              "\n",
              "    .dataframe tbody tr th {\n",
              "        vertical-align: top;\n",
              "    }\n",
              "\n",
              "    .dataframe thead th {\n",
              "        text-align: right;\n",
              "    }\n",
              "</style>\n",
              "<table border=\"1\" class=\"dataframe\">\n",
              "  <thead>\n",
              "    <tr style=\"text-align: right;\">\n",
              "      <th></th>\n",
              "      <th>asin</th>\n",
              "      <th>name</th>\n",
              "      <th>rating</th>\n",
              "      <th>date</th>\n",
              "      <th>verified</th>\n",
              "      <th>title</th>\n",
              "      <th>body</th>\n",
              "      <th>helpfulVotes</th>\n",
              "    </tr>\n",
              "  </thead>\n",
              "  <tbody>\n",
              "    <tr>\n",
              "      <th>0</th>\n",
              "      <td>B0000SX2UC</td>\n",
              "      <td>Janet</td>\n",
              "      <td>3</td>\n",
              "      <td>October 11, 2005</td>\n",
              "      <td>False</td>\n",
              "      <td>Def not best, but not worst</td>\n",
              "      <td>I had the Samsung A600 for awhile which is abs...</td>\n",
              "      <td>1.0</td>\n",
              "    </tr>\n",
              "    <tr>\n",
              "      <th>1</th>\n",
              "      <td>B0000SX2UC</td>\n",
              "      <td>Luke Wyatt</td>\n",
              "      <td>1</td>\n",
              "      <td>January 7, 2004</td>\n",
              "      <td>False</td>\n",
              "      <td>Text Messaging Doesn't Work</td>\n",
              "      <td>Due to a software issue between Nokia and Spri...</td>\n",
              "      <td>17.0</td>\n",
              "    </tr>\n",
              "    <tr>\n",
              "      <th>2</th>\n",
              "      <td>B0000SX2UC</td>\n",
              "      <td>Brooke</td>\n",
              "      <td>5</td>\n",
              "      <td>December 30, 2003</td>\n",
              "      <td>False</td>\n",
              "      <td>Love This Phone</td>\n",
              "      <td>This is a great, reliable phone. I also purcha...</td>\n",
              "      <td>5.0</td>\n",
              "    </tr>\n",
              "    <tr>\n",
              "      <th>3</th>\n",
              "      <td>B0000SX2UC</td>\n",
              "      <td>amy m. teague</td>\n",
              "      <td>3</td>\n",
              "      <td>March 18, 2004</td>\n",
              "      <td>False</td>\n",
              "      <td>Love the Phone, BUT...!</td>\n",
              "      <td>I love the phone and all, because I really did...</td>\n",
              "      <td>1.0</td>\n",
              "    </tr>\n",
              "    <tr>\n",
              "      <th>4</th>\n",
              "      <td>B0000SX2UC</td>\n",
              "      <td>tristazbimmer</td>\n",
              "      <td>4</td>\n",
              "      <td>August 28, 2005</td>\n",
              "      <td>False</td>\n",
              "      <td>Great phone service and options, lousy case!</td>\n",
              "      <td>The phone has been great for every purpose it ...</td>\n",
              "      <td>1.0</td>\n",
              "    </tr>\n",
              "  </tbody>\n",
              "</table>\n",
              "</div>"
            ],
            "text/plain": [
              "         asin  ... helpfulVotes\n",
              "0  B0000SX2UC  ...          1.0\n",
              "1  B0000SX2UC  ...         17.0\n",
              "2  B0000SX2UC  ...          5.0\n",
              "3  B0000SX2UC  ...          1.0\n",
              "4  B0000SX2UC  ...          1.0\n",
              "\n",
              "[5 rows x 8 columns]"
            ]
          },
          "metadata": {
            "tags": []
          },
          "execution_count": 6
        }
      ]
    },
    {
      "cell_type": "code",
      "metadata": {
        "colab": {
          "base_uri": "https://localhost:8080/"
        },
        "id": "0aPqCB3lStsn",
        "outputId": "30b65616-1b06-4e85-983a-780b9cb2fcef"
      },
      "source": [
        "df.shape"
      ],
      "execution_count": 7,
      "outputs": [
        {
          "output_type": "execute_result",
          "data": {
            "text/plain": [
              "(67986, 8)"
            ]
          },
          "metadata": {
            "tags": []
          },
          "execution_count": 7
        }
      ]
    },
    {
      "cell_type": "code",
      "metadata": {
        "colab": {
          "base_uri": "https://localhost:8080/"
        },
        "id": "W-dhKKIoStsn",
        "outputId": "3f31e4ba-fdbe-4399-e642-714b82b52e40"
      },
      "source": [
        "df.info()"
      ],
      "execution_count": 8,
      "outputs": [
        {
          "output_type": "stream",
          "text": [
            "<class 'pandas.core.frame.DataFrame'>\n",
            "RangeIndex: 67986 entries, 0 to 67985\n",
            "Data columns (total 8 columns):\n",
            " #   Column        Non-Null Count  Dtype  \n",
            "---  ------        --------------  -----  \n",
            " 0   asin          67986 non-null  object \n",
            " 1   name          67984 non-null  object \n",
            " 2   rating        67986 non-null  int64  \n",
            " 3   date          67986 non-null  object \n",
            " 4   verified      67986 non-null  bool   \n",
            " 5   title         67972 non-null  object \n",
            " 6   body          67965 non-null  object \n",
            " 7   helpfulVotes  27215 non-null  float64\n",
            "dtypes: bool(1), float64(1), int64(1), object(5)\n",
            "memory usage: 3.7+ MB\n"
          ],
          "name": "stdout"
        }
      ]
    },
    {
      "cell_type": "code",
      "metadata": {
        "colab": {
          "base_uri": "https://localhost:8080/"
        },
        "id": "h2AEXqSEStso",
        "outputId": "76a07e29-4859-4c90-d831-212561db551a"
      },
      "source": [
        "df.isnull().sum()"
      ],
      "execution_count": 9,
      "outputs": [
        {
          "output_type": "execute_result",
          "data": {
            "text/plain": [
              "asin                0\n",
              "name                2\n",
              "rating              0\n",
              "date                0\n",
              "verified            0\n",
              "title              14\n",
              "body               21\n",
              "helpfulVotes    40771\n",
              "dtype: int64"
            ]
          },
          "metadata": {
            "tags": []
          },
          "execution_count": 9
        }
      ]
    },
    {
      "cell_type": "code",
      "metadata": {
        "id": "2K25IwLmStso"
      },
      "source": [
        "title_miss = df[df.title.isnull()]"
      ],
      "execution_count": 10,
      "outputs": []
    },
    {
      "cell_type": "code",
      "metadata": {
        "colab": {
          "base_uri": "https://localhost:8080/",
          "height": 458
        },
        "id": "ccNg6wVdStsp",
        "outputId": "a568cd42-c1df-4fc8-969e-25bea6c73b6f"
      },
      "source": [
        "title_miss"
      ],
      "execution_count": 12,
      "outputs": [
        {
          "output_type": "execute_result",
          "data": {
            "text/html": [
              "<div>\n",
              "<style scoped>\n",
              "    .dataframe tbody tr th:only-of-type {\n",
              "        vertical-align: middle;\n",
              "    }\n",
              "\n",
              "    .dataframe tbody tr th {\n",
              "        vertical-align: top;\n",
              "    }\n",
              "\n",
              "    .dataframe thead th {\n",
              "        text-align: right;\n",
              "    }\n",
              "</style>\n",
              "<table border=\"1\" class=\"dataframe\">\n",
              "  <thead>\n",
              "    <tr style=\"text-align: right;\">\n",
              "      <th></th>\n",
              "      <th>asin</th>\n",
              "      <th>name</th>\n",
              "      <th>rating</th>\n",
              "      <th>date</th>\n",
              "      <th>verified</th>\n",
              "      <th>title</th>\n",
              "      <th>body</th>\n",
              "      <th>helpfulVotes</th>\n",
              "    </tr>\n",
              "  </thead>\n",
              "  <tbody>\n",
              "    <tr>\n",
              "      <th>30010</th>\n",
              "      <td>B01NB1KG8U</td>\n",
              "      <td>Sylvester Ofosuhene</td>\n",
              "      <td>5</td>\n",
              "      <td>December 24, 2019</td>\n",
              "      <td>True</td>\n",
              "      <td>NaN</td>\n",
              "      <td>NaN</td>\n",
              "      <td>NaN</td>\n",
              "    </tr>\n",
              "    <tr>\n",
              "      <th>30949</th>\n",
              "      <td>B06XR1K6HR</td>\n",
              "      <td>MOHAMED ALI</td>\n",
              "      <td>5</td>\n",
              "      <td>January 17, 2019</td>\n",
              "      <td>True</td>\n",
              "      <td>NaN</td>\n",
              "      <td>Almost like pretty new</td>\n",
              "      <td>NaN</td>\n",
              "    </tr>\n",
              "    <tr>\n",
              "      <th>32883</th>\n",
              "      <td>B06XSF5C42</td>\n",
              "      <td>Candice</td>\n",
              "      <td>5</td>\n",
              "      <td>June 13, 2019</td>\n",
              "      <td>True</td>\n",
              "      <td>NaN</td>\n",
              "      <td>Love this phone. Everything's worked great. So...</td>\n",
              "      <td>NaN</td>\n",
              "    </tr>\n",
              "    <tr>\n",
              "      <th>35016</th>\n",
              "      <td>B071H9KKKF</td>\n",
              "      <td>Wauany</td>\n",
              "      <td>5</td>\n",
              "      <td>June 17, 2018</td>\n",
              "      <td>True</td>\n",
              "      <td>NaN</td>\n",
              "      <td>Like the phone so far!!! Never had an expensiv...</td>\n",
              "      <td>NaN</td>\n",
              "    </tr>\n",
              "    <tr>\n",
              "      <th>42935</th>\n",
              "      <td>B077T4MVZ6</td>\n",
              "      <td>Evaldina</td>\n",
              "      <td>4</td>\n",
              "      <td>November 14, 2018</td>\n",
              "      <td>True</td>\n",
              "      <td>NaN</td>\n",
              "      <td>Love it</td>\n",
              "      <td>NaN</td>\n",
              "    </tr>\n",
              "    <tr>\n",
              "      <th>45899</th>\n",
              "      <td>B079X7DQ4Q</td>\n",
              "      <td>Roberto</td>\n",
              "      <td>5</td>\n",
              "      <td>November 25, 2019</td>\n",
              "      <td>True</td>\n",
              "      <td>NaN</td>\n",
              "      <td>NaN</td>\n",
              "      <td>NaN</td>\n",
              "    </tr>\n",
              "    <tr>\n",
              "      <th>45905</th>\n",
              "      <td>B079X7DQ4Q</td>\n",
              "      <td>Mahmood al rahawi</td>\n",
              "      <td>5</td>\n",
              "      <td>December 7, 2018</td>\n",
              "      <td>True</td>\n",
              "      <td>NaN</td>\n",
              "      <td>I get that phone I needed ,, thanks .</td>\n",
              "      <td>NaN</td>\n",
              "    </tr>\n",
              "    <tr>\n",
              "      <th>46470</th>\n",
              "      <td>B07BHT4KGM</td>\n",
              "      <td>Roberto</td>\n",
              "      <td>5</td>\n",
              "      <td>November 25, 2019</td>\n",
              "      <td>True</td>\n",
              "      <td>NaN</td>\n",
              "      <td>NaN</td>\n",
              "      <td>NaN</td>\n",
              "    </tr>\n",
              "    <tr>\n",
              "      <th>46476</th>\n",
              "      <td>B07BHT4KGM</td>\n",
              "      <td>Mahmood al rahawi</td>\n",
              "      <td>5</td>\n",
              "      <td>December 7, 2018</td>\n",
              "      <td>True</td>\n",
              "      <td>NaN</td>\n",
              "      <td>I get that phone I needed ,, thanks .</td>\n",
              "      <td>NaN</td>\n",
              "    </tr>\n",
              "    <tr>\n",
              "      <th>50404</th>\n",
              "      <td>B07FZH9BGV</td>\n",
              "      <td>Henry</td>\n",
              "      <td>5</td>\n",
              "      <td>November 1, 2018</td>\n",
              "      <td>True</td>\n",
              "      <td>NaN</td>\n",
              "      <td>Great phone...A++</td>\n",
              "      <td>1.0</td>\n",
              "    </tr>\n",
              "    <tr>\n",
              "      <th>58439</th>\n",
              "      <td>B07NZXXZB2</td>\n",
              "      <td>RRaRay</td>\n",
              "      <td>5</td>\n",
              "      <td>July 3, 2019</td>\n",
              "      <td>True</td>\n",
              "      <td>NaN</td>\n",
              "      <td>It was s good purchase</td>\n",
              "      <td>NaN</td>\n",
              "    </tr>\n",
              "    <tr>\n",
              "      <th>61074</th>\n",
              "      <td>B07Q84DPZH</td>\n",
              "      <td>Lee</td>\n",
              "      <td>5</td>\n",
              "      <td>November 29, 2019</td>\n",
              "      <td>True</td>\n",
              "      <td>NaN</td>\n",
              "      <td>NaN</td>\n",
              "      <td>NaN</td>\n",
              "    </tr>\n",
              "    <tr>\n",
              "      <th>61329</th>\n",
              "      <td>B07Q84DPZH</td>\n",
              "      <td>Janice B.</td>\n",
              "      <td>5</td>\n",
              "      <td>June 29, 2019</td>\n",
              "      <td>True</td>\n",
              "      <td>NaN</td>\n",
              "      <td>It was okay no dislikes yet</td>\n",
              "      <td>NaN</td>\n",
              "    </tr>\n",
              "    <tr>\n",
              "      <th>64371</th>\n",
              "      <td>B07V5KS95Y</td>\n",
              "      <td>Viet Nguyen</td>\n",
              "      <td>5</td>\n",
              "      <td>December 22, 2019</td>\n",
              "      <td>True</td>\n",
              "      <td>NaN</td>\n",
              "      <td>NaN</td>\n",
              "      <td>NaN</td>\n",
              "    </tr>\n",
              "  </tbody>\n",
              "</table>\n",
              "</div>"
            ],
            "text/plain": [
              "             asin  ... helpfulVotes\n",
              "30010  B01NB1KG8U  ...          NaN\n",
              "30949  B06XR1K6HR  ...          NaN\n",
              "32883  B06XSF5C42  ...          NaN\n",
              "35016  B071H9KKKF  ...          NaN\n",
              "42935  B077T4MVZ6  ...          NaN\n",
              "45899  B079X7DQ4Q  ...          NaN\n",
              "45905  B079X7DQ4Q  ...          NaN\n",
              "46470  B07BHT4KGM  ...          NaN\n",
              "46476  B07BHT4KGM  ...          NaN\n",
              "50404  B07FZH9BGV  ...          1.0\n",
              "58439  B07NZXXZB2  ...          NaN\n",
              "61074  B07Q84DPZH  ...          NaN\n",
              "61329  B07Q84DPZH  ...          NaN\n",
              "64371  B07V5KS95Y  ...          NaN\n",
              "\n",
              "[14 rows x 8 columns]"
            ]
          },
          "metadata": {
            "tags": []
          },
          "execution_count": 12
        }
      ]
    },
    {
      "cell_type": "code",
      "metadata": {
        "colab": {
          "base_uri": "https://localhost:8080/",
          "height": 458
        },
        "id": "vGLDRvk6Stsp",
        "outputId": "f3264b23-0886-4588-b1cb-95aa4aedf9ba"
      },
      "source": [
        "title_miss[['rating', 'title', 'body']]"
      ],
      "execution_count": 13,
      "outputs": [
        {
          "output_type": "execute_result",
          "data": {
            "text/html": [
              "<div>\n",
              "<style scoped>\n",
              "    .dataframe tbody tr th:only-of-type {\n",
              "        vertical-align: middle;\n",
              "    }\n",
              "\n",
              "    .dataframe tbody tr th {\n",
              "        vertical-align: top;\n",
              "    }\n",
              "\n",
              "    .dataframe thead th {\n",
              "        text-align: right;\n",
              "    }\n",
              "</style>\n",
              "<table border=\"1\" class=\"dataframe\">\n",
              "  <thead>\n",
              "    <tr style=\"text-align: right;\">\n",
              "      <th></th>\n",
              "      <th>rating</th>\n",
              "      <th>title</th>\n",
              "      <th>body</th>\n",
              "    </tr>\n",
              "  </thead>\n",
              "  <tbody>\n",
              "    <tr>\n",
              "      <th>30010</th>\n",
              "      <td>5</td>\n",
              "      <td>NaN</td>\n",
              "      <td>NaN</td>\n",
              "    </tr>\n",
              "    <tr>\n",
              "      <th>30949</th>\n",
              "      <td>5</td>\n",
              "      <td>NaN</td>\n",
              "      <td>Almost like pretty new</td>\n",
              "    </tr>\n",
              "    <tr>\n",
              "      <th>32883</th>\n",
              "      <td>5</td>\n",
              "      <td>NaN</td>\n",
              "      <td>Love this phone. Everything's worked great. So...</td>\n",
              "    </tr>\n",
              "    <tr>\n",
              "      <th>35016</th>\n",
              "      <td>5</td>\n",
              "      <td>NaN</td>\n",
              "      <td>Like the phone so far!!! Never had an expensiv...</td>\n",
              "    </tr>\n",
              "    <tr>\n",
              "      <th>42935</th>\n",
              "      <td>4</td>\n",
              "      <td>NaN</td>\n",
              "      <td>Love it</td>\n",
              "    </tr>\n",
              "    <tr>\n",
              "      <th>45899</th>\n",
              "      <td>5</td>\n",
              "      <td>NaN</td>\n",
              "      <td>NaN</td>\n",
              "    </tr>\n",
              "    <tr>\n",
              "      <th>45905</th>\n",
              "      <td>5</td>\n",
              "      <td>NaN</td>\n",
              "      <td>I get that phone I needed ,, thanks .</td>\n",
              "    </tr>\n",
              "    <tr>\n",
              "      <th>46470</th>\n",
              "      <td>5</td>\n",
              "      <td>NaN</td>\n",
              "      <td>NaN</td>\n",
              "    </tr>\n",
              "    <tr>\n",
              "      <th>46476</th>\n",
              "      <td>5</td>\n",
              "      <td>NaN</td>\n",
              "      <td>I get that phone I needed ,, thanks .</td>\n",
              "    </tr>\n",
              "    <tr>\n",
              "      <th>50404</th>\n",
              "      <td>5</td>\n",
              "      <td>NaN</td>\n",
              "      <td>Great phone...A++</td>\n",
              "    </tr>\n",
              "    <tr>\n",
              "      <th>58439</th>\n",
              "      <td>5</td>\n",
              "      <td>NaN</td>\n",
              "      <td>It was s good purchase</td>\n",
              "    </tr>\n",
              "    <tr>\n",
              "      <th>61074</th>\n",
              "      <td>5</td>\n",
              "      <td>NaN</td>\n",
              "      <td>NaN</td>\n",
              "    </tr>\n",
              "    <tr>\n",
              "      <th>61329</th>\n",
              "      <td>5</td>\n",
              "      <td>NaN</td>\n",
              "      <td>It was okay no dislikes yet</td>\n",
              "    </tr>\n",
              "    <tr>\n",
              "      <th>64371</th>\n",
              "      <td>5</td>\n",
              "      <td>NaN</td>\n",
              "      <td>NaN</td>\n",
              "    </tr>\n",
              "  </tbody>\n",
              "</table>\n",
              "</div>"
            ],
            "text/plain": [
              "       rating title                                               body\n",
              "30010       5   NaN                                                NaN\n",
              "30949       5   NaN                             Almost like pretty new\n",
              "32883       5   NaN  Love this phone. Everything's worked great. So...\n",
              "35016       5   NaN  Like the phone so far!!! Never had an expensiv...\n",
              "42935       4   NaN                                            Love it\n",
              "45899       5   NaN                                                NaN\n",
              "45905       5   NaN              I get that phone I needed ,, thanks .\n",
              "46470       5   NaN                                                NaN\n",
              "46476       5   NaN              I get that phone I needed ,, thanks .\n",
              "50404       5   NaN                                  Great phone...A++\n",
              "58439       5   NaN                             It was s good purchase\n",
              "61074       5   NaN                                                NaN\n",
              "61329       5   NaN                        It was okay no dislikes yet\n",
              "64371       5   NaN                                                NaN"
            ]
          },
          "metadata": {
            "tags": []
          },
          "execution_count": 13
        }
      ]
    },
    {
      "cell_type": "code",
      "metadata": {
        "id": "Fpre501zStsq"
      },
      "source": [
        "dataset = df[~df.title.isnull()]"
      ],
      "execution_count": 14,
      "outputs": []
    },
    {
      "cell_type": "code",
      "metadata": {
        "id": "O-K8ta1ZStsq"
      },
      "source": [
        "dataset.reset_index(inplace = True)"
      ],
      "execution_count": 15,
      "outputs": []
    },
    {
      "cell_type": "code",
      "metadata": {
        "colab": {
          "base_uri": "https://localhost:8080/"
        },
        "id": "Z6KoceZ-Stsq",
        "outputId": "d1ab6785-61aa-40ef-c8f0-cd22b6ec574c"
      },
      "source": [
        "dataset.isnull().sum()"
      ],
      "execution_count": 16,
      "outputs": [
        {
          "output_type": "execute_result",
          "data": {
            "text/plain": [
              "index               0\n",
              "asin                0\n",
              "name                2\n",
              "rating              0\n",
              "date                0\n",
              "verified            0\n",
              "title               0\n",
              "body               16\n",
              "helpfulVotes    40758\n",
              "dtype: int64"
            ]
          },
          "metadata": {
            "tags": []
          },
          "execution_count": 16
        }
      ]
    },
    {
      "cell_type": "code",
      "metadata": {
        "id": "93kdE0HtStsr"
      },
      "source": [
        "reviews = dataset.title\n",
        "ratings = dataset.rating"
      ],
      "execution_count": 17,
      "outputs": []
    },
    {
      "cell_type": "code",
      "metadata": {
        "id": "IpAzZ3qmStsr"
      },
      "source": [
        "ratings = np.where(ratings >= 3, 1, 0)"
      ],
      "execution_count": 21,
      "outputs": []
    },
    {
      "cell_type": "code",
      "metadata": {
        "colab": {
          "base_uri": "https://localhost:8080/"
        },
        "id": "CbujnLLXStsr",
        "outputId": "8803cb2b-3cd5-4df4-ba36-3089fc916784"
      },
      "source": [
        "dataset.shape"
      ],
      "execution_count": 22,
      "outputs": [
        {
          "output_type": "execute_result",
          "data": {
            "text/plain": [
              "(67972, 9)"
            ]
          },
          "metadata": {
            "tags": []
          },
          "execution_count": 22
        }
      ]
    },
    {
      "cell_type": "code",
      "metadata": {
        "colab": {
          "base_uri": "https://localhost:8080/"
        },
        "id": "CDlMNw2jStsr",
        "outputId": "6f338864-5244-4e0c-8d84-6820756c3bf9"
      },
      "source": [
        "reviews.head()"
      ],
      "execution_count": 23,
      "outputs": [
        {
          "output_type": "execute_result",
          "data": {
            "text/plain": [
              "0                     Def not best, but not worst\n",
              "1                     Text Messaging Doesn't Work\n",
              "2                                 Love This Phone\n",
              "3                         Love the Phone, BUT...!\n",
              "4    Great phone service and options, lousy case!\n",
              "Name: title, dtype: object"
            ]
          },
          "metadata": {
            "tags": []
          },
          "execution_count": 23
        }
      ]
    },
    {
      "cell_type": "markdown",
      "metadata": {
        "id": "J_mOT2VbStss"
      },
      "source": [
        " ## Text Preprocessing"
      ]
    },
    {
      "cell_type": "markdown",
      "metadata": {
        "id": "finGWz3qStss"
      },
      "source": [
        "### Import required libraries"
      ]
    },
    {
      "cell_type": "code",
      "metadata": {
        "id": "_HtNfSH0Stss"
      },
      "source": [
        "import nltk #Natural Language Toolkit library\n",
        "from nltk.corpus import stopwords #Library to remove stopwords\n",
        "from nltk.stem.porter import PorterStemmer #Library to stem words\n",
        "import re "
      ],
      "execution_count": 24,
      "outputs": []
    },
    {
      "cell_type": "code",
      "metadata": {
        "colab": {
          "base_uri": "https://localhost:8080/"
        },
        "id": "RDRKyjNgStss",
        "outputId": "101250a2-66dc-48d2-9a7d-7d48a27cbfef"
      },
      "source": [
        "nltk.download('stopwords')"
      ],
      "execution_count": 25,
      "outputs": [
        {
          "output_type": "stream",
          "text": [
            "[nltk_data] Downloading package stopwords to /root/nltk_data...\n",
            "[nltk_data]   Unzipping corpora/stopwords.zip.\n"
          ],
          "name": "stdout"
        },
        {
          "output_type": "execute_result",
          "data": {
            "text/plain": [
              "True"
            ]
          },
          "metadata": {
            "tags": []
          },
          "execution_count": 25
        }
      ]
    },
    {
      "cell_type": "code",
      "metadata": {
        "id": "SzTPIqJJStss"
      },
      "source": [
        "ps = PorterStemmer()"
      ],
      "execution_count": 26,
      "outputs": []
    },
    {
      "cell_type": "code",
      "metadata": {
        "id": "uFbwDC58Stss"
      },
      "source": [
        "m = len(reviews)"
      ],
      "execution_count": 27,
      "outputs": []
    },
    {
      "cell_type": "code",
      "metadata": {
        "id": "G-Oydr9pStst"
      },
      "source": [
        "data = []\n",
        "for i in range(m):\n",
        "    review = reviews[i]\n",
        "    review = re.sub('[^a-zA-Z]', ' ', review)\n",
        "    review = review.lower()\n",
        "    review = review.split()\n",
        "    review = [ps.stem(word) for word in review if word not in set(stopwords.words('english'))]\n",
        "    review = ' '.join(review)\n",
        "    data.append(review)"
      ],
      "execution_count": 28,
      "outputs": []
    },
    {
      "cell_type": "markdown",
      "metadata": {
        "id": "zXXw0WXKStst"
      },
      "source": [
        "### Creating bag of words model"
      ]
    },
    {
      "cell_type": "code",
      "metadata": {
        "id": "0rKj9fFmStst"
      },
      "source": [
        "from sklearn.feature_extraction.text import CountVectorizer"
      ],
      "execution_count": 29,
      "outputs": []
    },
    {
      "cell_type": "code",
      "metadata": {
        "id": "Yzxg1AreStst"
      },
      "source": [
        "cv = CountVectorizer()"
      ],
      "execution_count": 30,
      "outputs": []
    },
    {
      "cell_type": "code",
      "metadata": {
        "id": "4gGL3f7jStst"
      },
      "source": [
        "X = cv.fit_transform(data).toarray()"
      ],
      "execution_count": 31,
      "outputs": []
    },
    {
      "cell_type": "markdown",
      "metadata": {
        "id": "r3I2pyvOStst"
      },
      "source": [
        "## Creating train and test set"
      ]
    },
    {
      "cell_type": "code",
      "metadata": {
        "id": "5p8byPO9Stsu"
      },
      "source": [
        "from sklearn.model_selection import train_test_split"
      ],
      "execution_count": 32,
      "outputs": []
    },
    {
      "cell_type": "code",
      "metadata": {
        "id": "ijorIbVlStsu"
      },
      "source": [
        "X_train, X_test, y_train, y_test = train_test_split(X, ratings.ravel(), test_size = 0.25, random_state = 42)"
      ],
      "execution_count": 33,
      "outputs": []
    },
    {
      "cell_type": "code",
      "metadata": {
        "id": "fdTM8RzXStsu"
      },
      "source": [
        "max_features = X.shape[-1]"
      ],
      "execution_count": 34,
      "outputs": []
    },
    {
      "cell_type": "code",
      "metadata": {
        "colab": {
          "base_uri": "https://localhost:8080/"
        },
        "id": "WC6pCviNStsu",
        "outputId": "b2ece86c-e089-46c6-a4b4-1b79a978d59e"
      },
      "source": [
        "max_features"
      ],
      "execution_count": 35,
      "outputs": [
        {
          "output_type": "execute_result",
          "data": {
            "text/plain": [
              "6984"
            ]
          },
          "metadata": {
            "tags": []
          },
          "execution_count": 35
        }
      ]
    },
    {
      "cell_type": "markdown",
      "metadata": {
        "id": "py68UdtFStsu"
      },
      "source": [
        "# Model Building"
      ]
    },
    {
      "cell_type": "markdown",
      "metadata": {
        "id": "pWJ2KUrNStsu"
      },
      "source": [
        "## Libraries to build model"
      ]
    },
    {
      "cell_type": "code",
      "metadata": {
        "id": "OW30J4v-Stsv"
      },
      "source": [
        "import tensorflow.keras as keras"
      ],
      "execution_count": 36,
      "outputs": []
    },
    {
      "cell_type": "code",
      "metadata": {
        "id": "z8-360bVStsv"
      },
      "source": [
        "model = keras.Sequential() #Model Instantiation"
      ],
      "execution_count": 37,
      "outputs": []
    },
    {
      "cell_type": "code",
      "metadata": {
        "id": "wWNhMHrBStsv"
      },
      "source": [
        "model.add(keras.layers.Input(shape = (max_features,))) #Input Layer"
      ],
      "execution_count": 38,
      "outputs": []
    },
    {
      "cell_type": "code",
      "metadata": {
        "id": "zZ_Vf9ErStsv"
      },
      "source": [
        "model.add(keras.layers.Dense(units = 200, activation = 'relu')) #Hidden Layer\n",
        "model.add(keras.layers.Dropout(rate = 0.8))"
      ],
      "execution_count": 39,
      "outputs": []
    },
    {
      "cell_type": "code",
      "metadata": {
        "id": "k3qfeZHjStsv"
      },
      "source": [
        "model.add(keras.layers.Dense(units = 1, activation = 'sigmoid')) #Output Layer"
      ],
      "execution_count": 40,
      "outputs": []
    },
    {
      "cell_type": "code",
      "metadata": {
        "id": "82O_XBtKStsw"
      },
      "source": [
        "model.compile(optimizer = 'adam', loss = 'binary_crossentropy', metrics = ['accuracy'])"
      ],
      "execution_count": 41,
      "outputs": []
    },
    {
      "cell_type": "code",
      "metadata": {
        "id": "671jYrM3Stsw"
      },
      "source": [
        "model_checkpoint = keras.callbacks.ModelCheckpoint('sentiment', save_best_only = True)"
      ],
      "execution_count": 42,
      "outputs": []
    },
    {
      "cell_type": "code",
      "metadata": {
        "scrolled": true,
        "colab": {
          "base_uri": "https://localhost:8080/"
        },
        "id": "lnXhml1AStsw",
        "outputId": "d10a43dc-abed-4141-db8f-6ef5bb5acaf0"
      },
      "source": [
        "history = model.fit(X_train, y_train, batch_size = 32, epochs = 100, validation_split = 0.2, callbacks = [model_checkpoint])"
      ],
      "execution_count": 43,
      "outputs": [
        {
          "output_type": "stream",
          "text": [
            "Epoch 1/100\n",
            "1275/1275 [==============================] - 19s 14ms/step - loss: 0.1156 - accuracy: 0.9859 - val_loss: 1.5418e-04 - val_accuracy: 1.0000\n",
            "INFO:tensorflow:Assets written to: sentiment/assets\n",
            "Epoch 2/100\n",
            "1275/1275 [==============================] - 18s 14ms/step - loss: 3.5689e-04 - accuracy: 1.0000 - val_loss: 2.0113e-05 - val_accuracy: 1.0000\n",
            "INFO:tensorflow:Assets written to: sentiment/assets\n",
            "Epoch 3/100\n",
            "1275/1275 [==============================] - 17s 14ms/step - loss: 1.0144e-04 - accuracy: 1.0000 - val_loss: 4.4816e-06 - val_accuracy: 1.0000\n",
            "INFO:tensorflow:Assets written to: sentiment/assets\n",
            "Epoch 4/100\n",
            "1275/1275 [==============================] - 17s 13ms/step - loss: 3.7210e-05 - accuracy: 1.0000 - val_loss: 1.2729e-06 - val_accuracy: 1.0000\n",
            "INFO:tensorflow:Assets written to: sentiment/assets\n",
            "Epoch 5/100\n",
            "1275/1275 [==============================] - 17s 13ms/step - loss: 1.8549e-05 - accuracy: 1.0000 - val_loss: 4.0415e-07 - val_accuracy: 1.0000\n",
            "INFO:tensorflow:Assets written to: sentiment/assets\n",
            "Epoch 6/100\n",
            "1275/1275 [==============================] - 17s 13ms/step - loss: 1.0580e-05 - accuracy: 1.0000 - val_loss: 1.2538e-07 - val_accuracy: 1.0000\n",
            "INFO:tensorflow:Assets written to: sentiment/assets\n",
            "Epoch 7/100\n",
            "1275/1275 [==============================] - 18s 14ms/step - loss: 5.1283e-06 - accuracy: 1.0000 - val_loss: 3.8744e-08 - val_accuracy: 1.0000\n",
            "INFO:tensorflow:Assets written to: sentiment/assets\n",
            "Epoch 8/100\n",
            "1275/1275 [==============================] - 17s 14ms/step - loss: 2.2384e-06 - accuracy: 1.0000 - val_loss: 1.3180e-08 - val_accuracy: 1.0000\n",
            "INFO:tensorflow:Assets written to: sentiment/assets\n",
            "Epoch 9/100\n",
            "1275/1275 [==============================] - 17s 14ms/step - loss: 1.7602e-06 - accuracy: 1.0000 - val_loss: 3.3364e-09 - val_accuracy: 1.0000\n",
            "INFO:tensorflow:Assets written to: sentiment/assets\n",
            "Epoch 10/100\n",
            "1275/1275 [==============================] - 18s 14ms/step - loss: 8.5064e-07 - accuracy: 1.0000 - val_loss: 1.1238e-09 - val_accuracy: 1.0000\n",
            "INFO:tensorflow:Assets written to: sentiment/assets\n",
            "Epoch 11/100\n",
            "1275/1275 [==============================] - 18s 14ms/step - loss: 4.9958e-07 - accuracy: 1.0000 - val_loss: 3.5849e-10 - val_accuracy: 1.0000\n",
            "INFO:tensorflow:Assets written to: sentiment/assets\n",
            "Epoch 12/100\n",
            "1275/1275 [==============================] - 18s 14ms/step - loss: 2.0283e-07 - accuracy: 1.0000 - val_loss: 1.2510e-10 - val_accuracy: 1.0000\n",
            "INFO:tensorflow:Assets written to: sentiment/assets\n",
            "Epoch 13/100\n",
            "1275/1275 [==============================] - 18s 14ms/step - loss: 1.7515e-07 - accuracy: 1.0000 - val_loss: 3.3723e-11 - val_accuracy: 1.0000\n",
            "INFO:tensorflow:Assets written to: sentiment/assets\n",
            "Epoch 14/100\n",
            "1275/1275 [==============================] - 18s 14ms/step - loss: 1.6157e-07 - accuracy: 1.0000 - val_loss: 1.0378e-11 - val_accuracy: 1.0000\n",
            "INFO:tensorflow:Assets written to: sentiment/assets\n",
            "Epoch 15/100\n",
            "1275/1275 [==============================] - 19s 15ms/step - loss: 3.5419e-08 - accuracy: 1.0000 - val_loss: 3.0645e-12 - val_accuracy: 1.0000\n",
            "INFO:tensorflow:Assets written to: sentiment/assets\n",
            "Epoch 16/100\n",
            "1275/1275 [==============================] - 18s 14ms/step - loss: 2.2269e-08 - accuracy: 1.0000 - val_loss: 9.2772e-13 - val_accuracy: 1.0000\n",
            "INFO:tensorflow:Assets written to: sentiment/assets\n",
            "Epoch 17/100\n",
            "1275/1275 [==============================] - 18s 14ms/step - loss: 1.0486e-08 - accuracy: 1.0000 - val_loss: 4.1188e-13 - val_accuracy: 1.0000\n",
            "INFO:tensorflow:Assets written to: sentiment/assets\n",
            "Epoch 18/100\n",
            "1275/1275 [==============================] - 18s 14ms/step - loss: 1.1191e-08 - accuracy: 1.0000 - val_loss: 1.7445e-13 - val_accuracy: 1.0000\n",
            "INFO:tensorflow:Assets written to: sentiment/assets\n",
            "Epoch 19/100\n",
            "1275/1275 [==============================] - 18s 14ms/step - loss: 5.7648e-09 - accuracy: 1.0000 - val_loss: 6.5655e-14 - val_accuracy: 1.0000\n",
            "INFO:tensorflow:Assets written to: sentiment/assets\n",
            "Epoch 20/100\n",
            "1275/1275 [==============================] - 18s 14ms/step - loss: 5.2811e-09 - accuracy: 1.0000 - val_loss: 3.3585e-14 - val_accuracy: 1.0000\n",
            "INFO:tensorflow:Assets written to: sentiment/assets\n",
            "Epoch 21/100\n",
            "1275/1275 [==============================] - 18s 14ms/step - loss: 2.1104e-09 - accuracy: 1.0000 - val_loss: 2.4253e-14 - val_accuracy: 1.0000\n",
            "INFO:tensorflow:Assets written to: sentiment/assets\n",
            "Epoch 22/100\n",
            "1275/1275 [==============================] - 18s 14ms/step - loss: 1.6137e-09 - accuracy: 1.0000 - val_loss: 1.5055e-14 - val_accuracy: 1.0000\n",
            "INFO:tensorflow:Assets written to: sentiment/assets\n",
            "Epoch 23/100\n",
            "1275/1275 [==============================] - 18s 14ms/step - loss: 1.2918e-08 - accuracy: 1.0000 - val_loss: 6.5668e-15 - val_accuracy: 1.0000\n",
            "INFO:tensorflow:Assets written to: sentiment/assets\n",
            "Epoch 24/100\n",
            "1275/1275 [==============================] - 18s 14ms/step - loss: 1.4609e-09 - accuracy: 1.0000 - val_loss: 4.7383e-15 - val_accuracy: 1.0000\n",
            "INFO:tensorflow:Assets written to: sentiment/assets\n",
            "Epoch 25/100\n",
            "1275/1275 [==============================] - 18s 14ms/step - loss: 3.4283e-09 - accuracy: 1.0000 - val_loss: 3.4047e-15 - val_accuracy: 1.0000\n",
            "INFO:tensorflow:Assets written to: sentiment/assets\n",
            "Epoch 26/100\n",
            "1275/1275 [==============================] - 18s 14ms/step - loss: 1.5336e-09 - accuracy: 1.0000 - val_loss: 2.2931e-15 - val_accuracy: 1.0000\n",
            "INFO:tensorflow:Assets written to: sentiment/assets\n",
            "Epoch 27/100\n",
            "1275/1275 [==============================] - 18s 14ms/step - loss: 2.6592e-09 - accuracy: 1.0000 - val_loss: 1.6087e-15 - val_accuracy: 1.0000\n",
            "INFO:tensorflow:Assets written to: sentiment/assets\n",
            "Epoch 28/100\n",
            "1275/1275 [==============================] - 18s 14ms/step - loss: 1.2282e-09 - accuracy: 1.0000 - val_loss: 1.1874e-15 - val_accuracy: 1.0000\n",
            "INFO:tensorflow:Assets written to: sentiment/assets\n",
            "Epoch 29/100\n",
            "1275/1275 [==============================] - 18s 14ms/step - loss: 2.6559e-10 - accuracy: 1.0000 - val_loss: 1.0660e-15 - val_accuracy: 1.0000\n",
            "INFO:tensorflow:Assets written to: sentiment/assets\n",
            "Epoch 30/100\n",
            "1275/1275 [==============================] - 18s 14ms/step - loss: 1.0060e-09 - accuracy: 1.0000 - val_loss: 8.4250e-16 - val_accuracy: 1.0000\n",
            "INFO:tensorflow:Assets written to: sentiment/assets\n",
            "Epoch 31/100\n",
            "1275/1275 [==============================] - 19s 15ms/step - loss: 3.5223e-10 - accuracy: 1.0000 - val_loss: 7.5572e-16 - val_accuracy: 1.0000\n",
            "INFO:tensorflow:Assets written to: sentiment/assets\n",
            "Epoch 32/100\n",
            "1275/1275 [==============================] - 18s 14ms/step - loss: 2.5448e-10 - accuracy: 1.0000 - val_loss: 6.7472e-16 - val_accuracy: 1.0000\n",
            "INFO:tensorflow:Assets written to: sentiment/assets\n",
            "Epoch 33/100\n",
            "1275/1275 [==============================] - 18s 14ms/step - loss: 7.3016e-10 - accuracy: 1.0000 - val_loss: 5.6918e-16 - val_accuracy: 1.0000\n",
            "INFO:tensorflow:Assets written to: sentiment/assets\n",
            "Epoch 34/100\n",
            "1275/1275 [==============================] - 18s 14ms/step - loss: 3.2096e-09 - accuracy: 1.0000 - val_loss: 3.9087e-16 - val_accuracy: 1.0000\n",
            "INFO:tensorflow:Assets written to: sentiment/assets\n",
            "Epoch 35/100\n",
            "1275/1275 [==============================] - 18s 14ms/step - loss: 1.3507e-10 - accuracy: 1.0000 - val_loss: 3.5598e-16 - val_accuracy: 1.0000\n",
            "INFO:tensorflow:Assets written to: sentiment/assets\n",
            "Epoch 36/100\n",
            "1275/1275 [==============================] - 18s 14ms/step - loss: 1.3880e-10 - accuracy: 1.0000 - val_loss: 3.0661e-16 - val_accuracy: 1.0000\n",
            "INFO:tensorflow:Assets written to: sentiment/assets\n",
            "Epoch 37/100\n",
            "1275/1275 [==============================] - 18s 14ms/step - loss: 1.2318e-09 - accuracy: 1.0000 - val_loss: 2.5725e-16 - val_accuracy: 1.0000\n",
            "INFO:tensorflow:Assets written to: sentiment/assets\n",
            "Epoch 38/100\n",
            "1275/1275 [==============================] - 18s 14ms/step - loss: 1.7671e-10 - accuracy: 1.0000 - val_loss: 2.3906e-16 - val_accuracy: 1.0000\n",
            "INFO:tensorflow:Assets written to: sentiment/assets\n",
            "Epoch 39/100\n",
            "1275/1275 [==============================] - 18s 14ms/step - loss: 7.7887e-11 - accuracy: 1.0000 - val_loss: 2.2801e-16 - val_accuracy: 1.0000\n",
            "INFO:tensorflow:Assets written to: sentiment/assets\n",
            "Epoch 40/100\n",
            "1275/1275 [==============================] - 18s 14ms/step - loss: 2.6062e-10 - accuracy: 1.0000 - val_loss: 2.0891e-16 - val_accuracy: 1.0000\n",
            "INFO:tensorflow:Assets written to: sentiment/assets\n",
            "Epoch 41/100\n",
            "1275/1275 [==============================] - 18s 14ms/step - loss: 4.4503e-10 - accuracy: 1.0000 - val_loss: 1.9136e-16 - val_accuracy: 1.0000\n",
            "INFO:tensorflow:Assets written to: sentiment/assets\n",
            "Epoch 42/100\n",
            "1275/1275 [==============================] - 18s 14ms/step - loss: 1.8890e-10 - accuracy: 1.0000 - val_loss: 1.7764e-16 - val_accuracy: 1.0000\n",
            "INFO:tensorflow:Assets written to: sentiment/assets\n",
            "Epoch 43/100\n",
            "1275/1275 [==============================] - 18s 14ms/step - loss: 5.0913e-10 - accuracy: 1.0000 - val_loss: 1.5412e-16 - val_accuracy: 1.0000\n",
            "INFO:tensorflow:Assets written to: sentiment/assets\n",
            "Epoch 44/100\n",
            "1275/1275 [==============================] - 18s 14ms/step - loss: 6.0453e-11 - accuracy: 1.0000 - val_loss: 1.5020e-16 - val_accuracy: 1.0000\n",
            "INFO:tensorflow:Assets written to: sentiment/assets\n",
            "Epoch 45/100\n",
            "1275/1275 [==============================] - 18s 14ms/step - loss: 2.9634e-09 - accuracy: 1.0000 - val_loss: 1.1817e-16 - val_accuracy: 1.0000\n",
            "INFO:tensorflow:Assets written to: sentiment/assets\n",
            "Epoch 46/100\n",
            "1275/1275 [==============================] - 18s 14ms/step - loss: 4.9324e-10 - accuracy: 1.0000 - val_loss: 1.0362e-16 - val_accuracy: 1.0000\n",
            "INFO:tensorflow:Assets written to: sentiment/assets\n",
            "Epoch 47/100\n",
            "1275/1275 [==============================] - 18s 14ms/step - loss: 4.7737e-10 - accuracy: 1.0000 - val_loss: 9.3198e-17 - val_accuracy: 1.0000\n",
            "INFO:tensorflow:Assets written to: sentiment/assets\n",
            "Epoch 48/100\n",
            "1275/1275 [==============================] - 18s 14ms/step - loss: 1.4147e-10 - accuracy: 1.0000 - val_loss: 8.4681e-17 - val_accuracy: 1.0000\n",
            "INFO:tensorflow:Assets written to: sentiment/assets\n",
            "Epoch 49/100\n",
            "1275/1275 [==============================] - 18s 14ms/step - loss: 1.3875e-10 - accuracy: 1.0000 - val_loss: 8.1405e-17 - val_accuracy: 1.0000\n",
            "INFO:tensorflow:Assets written to: sentiment/assets\n",
            "Epoch 50/100\n",
            "1275/1275 [==============================] - 18s 14ms/step - loss: 6.2988e-11 - accuracy: 1.0000 - val_loss: 7.7073e-17 - val_accuracy: 1.0000\n",
            "INFO:tensorflow:Assets written to: sentiment/assets\n",
            "Epoch 51/100\n",
            "1275/1275 [==============================] - 18s 14ms/step - loss: 2.7939e-10 - accuracy: 1.0000 - val_loss: 6.6053e-17 - val_accuracy: 1.0000\n",
            "INFO:tensorflow:Assets written to: sentiment/assets\n",
            "Epoch 52/100\n",
            "1275/1275 [==============================] - 18s 14ms/step - loss: 6.1307e-10 - accuracy: 1.0000 - val_loss: 5.5597e-17 - val_accuracy: 1.0000\n",
            "INFO:tensorflow:Assets written to: sentiment/assets\n",
            "Epoch 53/100\n",
            "1275/1275 [==============================] - 18s 14ms/step - loss: 4.7737e-11 - accuracy: 1.0000 - val_loss: 5.3941e-17 - val_accuracy: 1.0000\n",
            "INFO:tensorflow:Assets written to: sentiment/assets\n",
            "Epoch 54/100\n",
            "1275/1275 [==============================] - 19s 15ms/step - loss: 5.5508e-10 - accuracy: 1.0000 - val_loss: 4.9472e-17 - val_accuracy: 1.0000\n",
            "INFO:tensorflow:Assets written to: sentiment/assets\n",
            "Epoch 55/100\n",
            "1275/1275 [==============================] - 18s 14ms/step - loss: 1.6397e-10 - accuracy: 1.0000 - val_loss: 4.7134e-17 - val_accuracy: 1.0000\n",
            "INFO:tensorflow:Assets written to: sentiment/assets\n",
            "Epoch 56/100\n",
            "1275/1275 [==============================] - 18s 14ms/step - loss: 2.0159e-10 - accuracy: 1.0000 - val_loss: 4.3932e-17 - val_accuracy: 1.0000\n",
            "INFO:tensorflow:Assets written to: sentiment/assets\n",
            "Epoch 57/100\n",
            "1275/1275 [==============================] - 18s 14ms/step - loss: 1.0866e-10 - accuracy: 1.0000 - val_loss: 4.2796e-17 - val_accuracy: 1.0000\n",
            "INFO:tensorflow:Assets written to: sentiment/assets\n",
            "Epoch 58/100\n",
            "1275/1275 [==============================] - 19s 15ms/step - loss: 7.4357e-10 - accuracy: 1.0000 - val_loss: 3.5083e-17 - val_accuracy: 1.0000\n",
            "INFO:tensorflow:Assets written to: sentiment/assets\n",
            "Epoch 59/100\n",
            "1275/1275 [==============================] - 19s 15ms/step - loss: 3.9623e-11 - accuracy: 1.0000 - val_loss: 3.4560e-17 - val_accuracy: 1.0000\n",
            "INFO:tensorflow:Assets written to: sentiment/assets\n",
            "Epoch 60/100\n",
            "1275/1275 [==============================] - 18s 14ms/step - loss: 2.1566e-10 - accuracy: 1.0000 - val_loss: 3.2355e-17 - val_accuracy: 1.0000\n",
            "INFO:tensorflow:Assets written to: sentiment/assets\n",
            "Epoch 61/100\n",
            "1275/1275 [==============================] - 18s 14ms/step - loss: 1.4291e-10 - accuracy: 1.0000 - val_loss: 3.0257e-17 - val_accuracy: 1.0000\n",
            "INFO:tensorflow:Assets written to: sentiment/assets\n",
            "Epoch 62/100\n",
            "1275/1275 [==============================] - 18s 14ms/step - loss: 2.2868e-11 - accuracy: 1.0000 - val_loss: 2.8881e-17 - val_accuracy: 1.0000\n",
            "INFO:tensorflow:Assets written to: sentiment/assets\n",
            "Epoch 63/100\n",
            "1275/1275 [==============================] - 18s 14ms/step - loss: 1.4231e-10 - accuracy: 1.0000 - val_loss: 2.7839e-17 - val_accuracy: 1.0000\n",
            "INFO:tensorflow:Assets written to: sentiment/assets\n",
            "Epoch 64/100\n",
            "1275/1275 [==============================] - 18s 15ms/step - loss: 5.0441e-11 - accuracy: 1.0000 - val_loss: 2.7254e-17 - val_accuracy: 1.0000\n",
            "INFO:tensorflow:Assets written to: sentiment/assets\n",
            "Epoch 65/100\n",
            "1275/1275 [==============================] - 18s 14ms/step - loss: 7.8039e-10 - accuracy: 1.0000 - val_loss: 2.2927e-17 - val_accuracy: 1.0000\n",
            "INFO:tensorflow:Assets written to: sentiment/assets\n",
            "Epoch 66/100\n",
            "1275/1275 [==============================] - 18s 14ms/step - loss: 2.1790e-09 - accuracy: 1.0000 - val_loss: 1.8758e-17 - val_accuracy: 1.0000\n",
            "INFO:tensorflow:Assets written to: sentiment/assets\n",
            "Epoch 67/100\n",
            "1275/1275 [==============================] - 18s 14ms/step - loss: 6.1287e-11 - accuracy: 1.0000 - val_loss: 1.8368e-17 - val_accuracy: 1.0000\n",
            "INFO:tensorflow:Assets written to: sentiment/assets\n",
            "Epoch 68/100\n",
            "1275/1275 [==============================] - 18s 14ms/step - loss: 1.8056e-10 - accuracy: 1.0000 - val_loss: 1.7603e-17 - val_accuracy: 1.0000\n",
            "INFO:tensorflow:Assets written to: sentiment/assets\n",
            "Epoch 69/100\n",
            "1275/1275 [==============================] - 18s 14ms/step - loss: 7.2255e-11 - accuracy: 1.0000 - val_loss: 1.7206e-17 - val_accuracy: 1.0000\n",
            "INFO:tensorflow:Assets written to: sentiment/assets\n",
            "Epoch 70/100\n",
            "1275/1275 [==============================] - 18s 14ms/step - loss: 4.0670e-10 - accuracy: 1.0000 - val_loss: 1.5194e-17 - val_accuracy: 1.0000\n",
            "INFO:tensorflow:Assets written to: sentiment/assets\n",
            "Epoch 71/100\n",
            "1275/1275 [==============================] - 18s 14ms/step - loss: 6.9933e-11 - accuracy: 1.0000 - val_loss: 1.4563e-17 - val_accuracy: 1.0000\n",
            "INFO:tensorflow:Assets written to: sentiment/assets\n",
            "Epoch 72/100\n",
            "1275/1275 [==============================] - 18s 14ms/step - loss: 3.0106e-10 - accuracy: 1.0000 - val_loss: 1.2751e-17 - val_accuracy: 1.0000\n",
            "INFO:tensorflow:Assets written to: sentiment/assets\n",
            "Epoch 73/100\n",
            "1275/1275 [==============================] - 18s 14ms/step - loss: 4.6154e-11 - accuracy: 1.0000 - val_loss: 1.2539e-17 - val_accuracy: 1.0000\n",
            "INFO:tensorflow:Assets written to: sentiment/assets\n",
            "Epoch 74/100\n",
            "1275/1275 [==============================] - 18s 14ms/step - loss: 1.0698e-10 - accuracy: 1.0000 - val_loss: 1.2255e-17 - val_accuracy: 1.0000\n",
            "INFO:tensorflow:Assets written to: sentiment/assets\n",
            "Epoch 75/100\n",
            "1275/1275 [==============================] - 18s 14ms/step - loss: 2.0355e-10 - accuracy: 1.0000 - val_loss: 1.1912e-17 - val_accuracy: 1.0000\n",
            "INFO:tensorflow:Assets written to: sentiment/assets\n",
            "Epoch 76/100\n",
            "1275/1275 [==============================] - 18s 14ms/step - loss: 3.6215e-10 - accuracy: 1.0000 - val_loss: 1.0923e-17 - val_accuracy: 1.0000\n",
            "INFO:tensorflow:Assets written to: sentiment/assets\n",
            "Epoch 77/100\n",
            "1275/1275 [==============================] - 18s 14ms/step - loss: 7.1639e-11 - accuracy: 1.0000 - val_loss: 1.0670e-17 - val_accuracy: 1.0000\n",
            "INFO:tensorflow:Assets written to: sentiment/assets\n",
            "Epoch 78/100\n",
            "1275/1275 [==============================] - 18s 14ms/step - loss: 8.6314e-11 - accuracy: 1.0000 - val_loss: 1.0477e-17 - val_accuracy: 1.0000\n",
            "INFO:tensorflow:Assets written to: sentiment/assets\n",
            "Epoch 79/100\n",
            "1275/1275 [==============================] - 18s 14ms/step - loss: 6.2395e-11 - accuracy: 1.0000 - val_loss: 1.0224e-17 - val_accuracy: 1.0000\n",
            "INFO:tensorflow:Assets written to: sentiment/assets\n",
            "Epoch 80/100\n",
            "1275/1275 [==============================] - 18s 14ms/step - loss: 1.0051e-10 - accuracy: 1.0000 - val_loss: 9.8526e-18 - val_accuracy: 1.0000\n",
            "INFO:tensorflow:Assets written to: sentiment/assets\n",
            "Epoch 81/100\n",
            "1275/1275 [==============================] - 18s 14ms/step - loss: 3.1590e-11 - accuracy: 1.0000 - val_loss: 9.6768e-18 - val_accuracy: 1.0000\n",
            "INFO:tensorflow:Assets written to: sentiment/assets\n",
            "Epoch 82/100\n",
            "1275/1275 [==============================] - 18s 14ms/step - loss: 1.5058e-10 - accuracy: 1.0000 - val_loss: 9.0192e-18 - val_accuracy: 1.0000\n",
            "INFO:tensorflow:Assets written to: sentiment/assets\n",
            "Epoch 83/100\n",
            "1275/1275 [==============================] - 18s 14ms/step - loss: 2.5194e-11 - accuracy: 1.0000 - val_loss: 8.9257e-18 - val_accuracy: 1.0000\n",
            "INFO:tensorflow:Assets written to: sentiment/assets\n",
            "Epoch 84/100\n",
            "1275/1275 [==============================] - 18s 14ms/step - loss: 3.3033e-11 - accuracy: 1.0000 - val_loss: 8.8457e-18 - val_accuracy: 1.0000\n",
            "INFO:tensorflow:Assets written to: sentiment/assets\n",
            "Epoch 85/100\n",
            "1275/1275 [==============================] - 18s 14ms/step - loss: 4.6885e-11 - accuracy: 1.0000 - val_loss: 8.7505e-18 - val_accuracy: 1.0000\n",
            "INFO:tensorflow:Assets written to: sentiment/assets\n",
            "Epoch 86/100\n",
            "1275/1275 [==============================] - 19s 15ms/step - loss: 1.7393e-10 - accuracy: 1.0000 - val_loss: 8.1311e-18 - val_accuracy: 1.0000\n",
            "INFO:tensorflow:Assets written to: sentiment/assets\n",
            "Epoch 87/100\n",
            "1275/1275 [==============================] - 18s 14ms/step - loss: 8.3666e-11 - accuracy: 1.0000 - val_loss: 7.2436e-18 - val_accuracy: 1.0000\n",
            "INFO:tensorflow:Assets written to: sentiment/assets\n",
            "Epoch 88/100\n",
            "1275/1275 [==============================] - 18s 14ms/step - loss: 4.0304e-11 - accuracy: 1.0000 - val_loss: 7.1351e-18 - val_accuracy: 1.0000\n",
            "INFO:tensorflow:Assets written to: sentiment/assets\n",
            "Epoch 89/100\n",
            "1275/1275 [==============================] - 18s 14ms/step - loss: 4.0537e-10 - accuracy: 1.0000 - val_loss: 6.6316e-18 - val_accuracy: 1.0000\n",
            "INFO:tensorflow:Assets written to: sentiment/assets\n",
            "Epoch 90/100\n",
            "1275/1275 [==============================] - 18s 14ms/step - loss: 1.2733e-08 - accuracy: 1.0000 - val_loss: 5.5809e-18 - val_accuracy: 1.0000\n",
            "INFO:tensorflow:Assets written to: sentiment/assets\n",
            "Epoch 91/100\n",
            "1275/1275 [==============================] - 18s 14ms/step - loss: 1.5411e-11 - accuracy: 1.0000 - val_loss: 5.5394e-18 - val_accuracy: 1.0000\n",
            "INFO:tensorflow:Assets written to: sentiment/assets\n",
            "Epoch 92/100\n",
            "1275/1275 [==============================] - 18s 14ms/step - loss: 5.5595e-11 - accuracy: 1.0000 - val_loss: 5.3860e-18 - val_accuracy: 1.0000\n",
            "INFO:tensorflow:Assets written to: sentiment/assets\n",
            "Epoch 93/100\n",
            "1275/1275 [==============================] - 18s 14ms/step - loss: 2.9500e-11 - accuracy: 1.0000 - val_loss: 5.2881e-18 - val_accuracy: 1.0000\n",
            "INFO:tensorflow:Assets written to: sentiment/assets\n",
            "Epoch 94/100\n",
            "1275/1275 [==============================] - 18s 14ms/step - loss: 1.1221e-11 - accuracy: 1.0000 - val_loss: 5.2630e-18 - val_accuracy: 1.0000\n",
            "INFO:tensorflow:Assets written to: sentiment/assets\n",
            "Epoch 95/100\n",
            "1275/1275 [==============================] - 18s 14ms/step - loss: 5.2833e-11 - accuracy: 1.0000 - val_loss: 5.1518e-18 - val_accuracy: 1.0000\n",
            "INFO:tensorflow:Assets written to: sentiment/assets\n",
            "Epoch 96/100\n",
            "1275/1275 [==============================] - 18s 14ms/step - loss: 4.5334e-11 - accuracy: 1.0000 - val_loss: 5.0822e-18 - val_accuracy: 1.0000\n",
            "INFO:tensorflow:Assets written to: sentiment/assets\n",
            "Epoch 97/100\n",
            "1275/1275 [==============================] - 18s 14ms/step - loss: 3.1154e-11 - accuracy: 1.0000 - val_loss: 5.0301e-18 - val_accuracy: 1.0000\n",
            "INFO:tensorflow:Assets written to: sentiment/assets\n",
            "Epoch 98/100\n",
            "1275/1275 [==============================] - 18s 14ms/step - loss: 4.4219e-11 - accuracy: 1.0000 - val_loss: 4.9175e-18 - val_accuracy: 1.0000\n",
            "INFO:tensorflow:Assets written to: sentiment/assets\n",
            "Epoch 99/100\n",
            "1275/1275 [==============================] - 18s 14ms/step - loss: 4.9259e-11 - accuracy: 1.0000 - val_loss: 4.8421e-18 - val_accuracy: 1.0000\n",
            "INFO:tensorflow:Assets written to: sentiment/assets\n",
            "Epoch 100/100\n",
            "1275/1275 [==============================] - 18s 14ms/step - loss: 5.5179e-11 - accuracy: 1.0000 - val_loss: 4.7489e-18 - val_accuracy: 1.0000\n",
            "INFO:tensorflow:Assets written to: sentiment/assets\n"
          ],
          "name": "stdout"
        }
      ]
    },
    {
      "cell_type": "code",
      "metadata": {
        "colab": {
          "base_uri": "https://localhost:8080/"
        },
        "id": "1tElLO88Stsw",
        "outputId": "93d53595-9e6e-4a49-d80e-757a8b39fbbe"
      },
      "source": [
        "model.evaluate(X_test, y_test)"
      ],
      "execution_count": 44,
      "outputs": [
        {
          "output_type": "stream",
          "text": [
            "532/532 [==============================] - 3s 5ms/step - loss: 5.1539e-18 - accuracy: 1.0000\n"
          ],
          "name": "stdout"
        },
        {
          "output_type": "execute_result",
          "data": {
            "text/plain": [
              "[5.153904316466799e-18, 1.0]"
            ]
          },
          "metadata": {
            "tags": []
          },
          "execution_count": 44
        }
      ]
    },
    {
      "cell_type": "code",
      "metadata": {
        "id": "Fr0jASIJStsw"
      },
      "source": [
        "best = keras.models.load_model('sentiment')"
      ],
      "execution_count": 45,
      "outputs": []
    },
    {
      "cell_type": "code",
      "metadata": {
        "id": "dJF0yFpwStsx"
      },
      "source": [
        "model.save('sentiment.h5')"
      ],
      "execution_count": 46,
      "outputs": []
    },
    {
      "cell_type": "markdown",
      "metadata": {
        "id": "V658WkU_Stsx"
      },
      "source": [
        "## Save CountVectorizer object"
      ]
    },
    {
      "cell_type": "code",
      "metadata": {
        "id": "BlFPTl0zStsx"
      },
      "source": [
        "import pickle"
      ],
      "execution_count": 47,
      "outputs": []
    },
    {
      "cell_type": "code",
      "metadata": {
        "id": "QmxeyqghStsx"
      },
      "source": [
        "with open('countvectorizer', 'wb') as fout:\n",
        "    pickle.dump(cv, fout)"
      ],
      "execution_count": 48,
      "outputs": []
    },
    {
      "cell_type": "code",
      "metadata": {
        "id": "D161AkbiStsx"
      },
      "source": [
        ""
      ],
      "execution_count": null,
      "outputs": []
    }
  ]
}